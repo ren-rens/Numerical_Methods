{
 "cells": [
  {
   "cell_type": "code",
   "execution_count": 3,
   "id": "32a693a8-f838-4797-8a9a-8a4600f62eec",
   "metadata": {},
   "outputs": [],
   "source": [
    "import numpy as np\n",
    "import matplotlib.pyplot as plt\n",
    "from sympy import symbols, Eq, solve, diff, expand\n",
    "import numpy as np\n",
    "import matplotlib.pyplot as plt\n",
    "import pandas as pd"
   ]
  },
  {
   "cell_type": "markdown",
   "id": "5a953755-a1cf-4966-ac14-dbd45c826522",
   "metadata": {},
   "source": [
    "# Метод на най-малките квадрати - част 1"
   ]
  },
  {
   "cell_type": "markdown",
   "id": "21de2700-f634-4427-bd83-2c98a97f0d61",
   "metadata": {},
   "source": [
    "### Задача 1\n",
    "Да се намери линейна функция, която приближава по метода на най-малките квадрати данните от таблицата\n",
    "\n",
    "|x| 0 | 1 | 2 | 3 | 4\n",
    "|---|---|---|---|---|---|\n",
    "|y|0|1|1|2|2|"
   ]
  },
  {
   "cell_type": "code",
   "execution_count": 15,
   "id": "41cb3b33-a463-49d3-8156-101c77b1eef8",
   "metadata": {},
   "outputs": [],
   "source": [
    "xs = np.array([0, 1, 2, 3, 4])\n",
    "ys = np.array([0,1,1,2,2])\n",
    "\n",
    "a, b = symbols('a, b')\n",
    "\n",
    "def f(x, params):\n",
    "    a, b = params\n",
    "    return a * x + b"
   ]
  },
  {
   "cell_type": "code",
   "execution_count": 17,
   "id": "efd6534c-fab3-4a0a-ac3d-7092cd30da3b",
   "metadata": {},
   "outputs": [
    {
     "data": {
      "text/latex": [
       "$\\displaystyle 30 a^{2} + 20 a b - 34 a + 5 b^{2} - 12 b + 10$"
      ],
      "text/plain": [
       "30*a**2 + 20*a*b - 34*a + 5*b**2 - 12*b + 10"
      ]
     },
     "execution_count": 17,
     "metadata": {},
     "output_type": "execute_result"
    }
   ],
   "source": [
    "phi = 0;\n",
    "\n",
    "for i in range(xs.size):\n",
    "    phi += (f(xs[i], (a,b)) - ys[i])** 2\n",
    "\n",
    "expand(phi)"
   ]
  },
  {
   "cell_type": "code",
   "execution_count": 19,
   "id": "734caea1-a5a8-4d21-bd84-01d6c54913dd",
   "metadata": {},
   "outputs": [
    {
     "data": {
      "text/plain": [
       "{a: 1/2, b: 1/5}"
      ]
     },
     "execution_count": 19,
     "metadata": {},
     "output_type": "execute_result"
    }
   ],
   "source": [
    "sol = solve([Eq(diff(phi, a), 0),\n",
    " Eq(diff(phi, b), 0)\n",
    "])\n",
    "\n",
    "sol"
   ]
  },
  {
   "cell_type": "code",
   "execution_count": 21,
   "id": "8da7cd68-f160-48ad-87ef-1ec461abbe2b",
   "metadata": {},
   "outputs": [
    {
     "data": {
      "text/latex": [
       "$\\displaystyle 0.25$"
      ],
      "text/plain": [
       "0.250000000000000"
      ]
     },
     "execution_count": 21,
     "metadata": {},
     "output_type": "execute_result"
    }
   ],
   "source": [
    "f(0.1, (sol[a], sol[b]))"
   ]
  },
  {
   "cell_type": "code",
   "execution_count": 23,
   "id": "e7dcaf66-ad0c-4278-8eb2-e3a5ebc7fa47",
   "metadata": {},
   "outputs": [
    {
     "data": {
      "image/png": "[encoded data removed]",
      "text/plain": [
       "<Figure size 432x288 with 1 Axes>"
      ]
     },
     "metadata": {
      "needs_background": "light"
     },
     "output_type": "display_data"
    }
   ],
   "source": [
    "x_axis = np.linspace(0, 4, 100)\n",
    "plt.plot(x_axis, f(x_axis, (sol[a], sol[b])), color = 'red')\n",
    "plt.scatter(xs, ys)\n",
    "plt.show()"
   ]
  },
  {
   "cell_type": "markdown",
   "id": "f9912dc7-f2c1-4888-9193-86731f3f5f6d",
   "metadata": {
    "tags": []
   },
   "source": [
    "### Задача 2"
   ]
  },
  {
   "cell_type": "markdown",
   "id": "0482b90c-801b-4e0d-abbc-03c0362ed56c",
   "metadata": {},
   "source": [
    "Във файла *CO_2_data.csv* се съдръжат данни за нивата на въглеродния диоксид в атмосферата (в млрд. тонове) за периода 1940-2022г. Да се зареди файла и да се визуализират данните. По метода на най-малките квадрати да се построи линейна функция, която приближава данните.\n",
    "\n",
    "*Източник: https://www.statista.com/statistics/276629/global-co2-emissions/*"
   ]
  },
  {
   "cell_type": "code",
   "execution_count": 4,
   "id": "db9d1b63-d9cc-4f55-973a-2f2f57432d00",
   "metadata": {},
   "outputs": [
    {
     "data": {
      "text/html": [
       "<div>\n",
       "<style scoped>\n",
       "    .dataframe tbody tr th:only-of-type {\n",
       "        vertical-align: middle;\n",
       "    }\n",
       "\n",
       "    .dataframe tbody tr th {\n",
       "        vertical-align: top;\n",
       "    }\n",
       "\n",
       "    .dataframe thead th {\n",
       "        text-align: right;\n",
       "    }\n",
       "</style>\n",
       "<table border=\"1\" class=\"dataframe\">\n",
       "  <thead>\n",
       "    <tr style=\"text-align: right;\">\n",
       "      <th></th>\n",
       "      <th>year</th>\n",
       "      <th>co2</th>\n",
       "    </tr>\n",
       "  </thead>\n",
       "  <tbody>\n",
       "    <tr>\n",
       "      <th>0</th>\n",
       "      <td>1940</td>\n",
       "      <td>4.85</td>\n",
       "    </tr>\n",
       "    <tr>\n",
       "      <th>1</th>\n",
       "      <td>1941</td>\n",
       "      <td>4.97</td>\n",
       "    </tr>\n",
       "    <tr>\n",
       "      <th>2</th>\n",
       "      <td>1942</td>\n",
       "      <td>4.95</td>\n",
       "    </tr>\n",
       "    <tr>\n",
       "      <th>3</th>\n",
       "      <td>1943</td>\n",
       "      <td>5.04</td>\n",
       "    </tr>\n",
       "    <tr>\n",
       "      <th>4</th>\n",
       "      <td>1944</td>\n",
       "      <td>5.11</td>\n",
       "    </tr>\n",
       "  </tbody>\n",
       "</table>\n",
       "</div>"
      ],
      "text/plain": [
       "   year   co2\n",
       "0  1940  4.85\n",
       "1  1941  4.97\n",
       "2  1942  4.95\n",
       "3  1943  5.04\n",
       "4  1944  5.11"
      ]
     },
     "execution_count": 4,
     "metadata": {},
     "output_type": "execute_result"
    }
   ],
   "source": [
    "df = pd.read_csv('CO_2_data.csv')#data frame type\n",
    "\n",
    "df.head()"
   ]
  },
  {
   "cell_type": "code",
   "execution_count": 27,
   "id": "d1e856d4-fff6-421f-9852-3185c6856a56",
   "metadata": {},
   "outputs": [],
   "source": [
    "years = df.loc[:, 'year']\n",
    "co2 = df.loc[:, 'co2']\n",
    "\n",
    "#another way\n",
    "#xs = np.array(df['year'])\n",
    "#ys = np.array(df['co2'])"
   ]
  },
  {
   "cell_type": "code",
   "execution_count": 29,
   "id": "bd10c749-566c-48d4-b7ee-035d93f67deb",
   "metadata": {},
   "outputs": [
    {
     "data": {
      "image/png": "[encoded data removed]",
      "text/plain": [
       "<Figure size 432x288 with 1 Axes>"
      ]
     },
     "metadata": {
      "needs_background": "light"
     },
     "output_type": "display_data"
    }
   ],
   "source": [
    "plt.scatter(years, co2)\n",
    "plt.xlabel('Years')\n",
    "plt.ylabel('CO2')\n",
    "plt.show()"
   ]
  },
  {
   "cell_type": "code",
   "execution_count": 31,
   "id": "fd0f3194-ebfd-4e7b-acba-df7a8b18bd94",
   "metadata": {},
   "outputs": [],
   "source": [
    "a,b = symbols('a, b')\n",
    "\n",
    "def f(x, a, b):\n",
    "    return a * x + b"
   ]
  },
  {
   "cell_type": "code",
   "execution_count": 33,
   "id": "a58805c6-eb67-4872-bbe3-c35d42cd6e46",
   "metadata": {},
   "outputs": [],
   "source": [
    "def phi(a,b):\n",
    "    phi = 0\n",
    "    for i in range(years.size):\n",
    "        phi += (f(years[i], a,b) - co2[i]) ** 2\n",
    "    return phi"
   ]
  },
  {
   "cell_type": "code",
   "execution_count": 35,
   "id": "f27fb2ec-1aaf-4497-a99f-79aafd6ead07",
   "metadata": {},
   "outputs": [
    {
     "data": {
      "text/plain": [
       "{a: 0.430363124973763, b: -833.280314428446}"
      ]
     },
     "execution_count": 35,
     "metadata": {},
     "output_type": "execute_result"
    }
   ],
   "source": [
    "equations = [Eq(diff(phi(a, b), a), 0),\n",
    "             Eq(diff(phi(a, b), b), 0)]\n",
    "\n",
    "sol = solve(equations)\n",
    "\n",
    "sol"
   ]
  },
  {
   "cell_type": "code",
   "execution_count": 37,
   "id": "f2a8367b-c435-49fd-81cc-265d02c62da1",
   "metadata": {},
   "outputs": [
    {
     "data": {
      "image/png": "[encoded data removed]",
      "text/plain": [
       "<Figure size 432x288 with 1 Axes>"
      ]
     },
     "metadata": {
      "needs_background": "light"
     },
     "output_type": "display_data"
    }
   ],
   "source": [
    "x_axis = np.linspace(years[0], years[years.size - 1], 1000)\n",
    "plt.scatter(years, co2, color = 'yellow')\n",
    "plt.plot(x_axis, f(x_axis, sol[a], sol[b]), color = 'green')\n",
    "plt.show()"
   ]
  },
  {
   "cell_type": "code",
   "execution_count": 39,
   "id": "7ad3d215-6a20-4084-a453-404021bf6e21",
   "metadata": {},
   "outputs": [
    {
     "data": {
      "image/png": "[encoded data removed]",
      "text/plain": [
       "<Figure size 432x288 with 1 Axes>"
      ]
     },
     "metadata": {
      "needs_background": "light"
     },
     "output_type": "display_data"
    }
   ],
   "source": [
    "#another way\n",
    "\n",
    "xs = np.array(df['year'])\n",
    "ys = np.array(df['co2'])\n",
    "\n",
    "def f(x, params):\n",
    "    a,b = params\n",
    "    return a* x + b\n",
    "\n",
    "phi = 0\n",
    "for i in range(xs.size):\n",
    "    phi += (f(xs[i], (a,b)) - ys[i])** 2\n",
    "\n",
    "expand(phi)\n",
    "\n",
    "sol = solve([Eq(diff(phi, a), 0),\n",
    "            Eq(diff(phi, b), 0)])\n",
    "\n",
    "sol\n",
    "\n",
    "x_axis = np.linspace(xs[0], xs[xs.size - 1], 100)\n",
    "plt.plot(x_axis, f(x_axis, (sol[a], sol[b])), color = 'red')\n",
    "plt.scatter(xs, ys)\n",
    "plt.show()"
   ]
  },
  {
   "cell_type": "markdown",
   "id": "4158a6f3-df56-4d49-8968-2380ad6f0fdb",
   "metadata": {},
   "source": [
    "### Задача 3"
   ]
  },
  {
   "cell_type": "markdown",
   "id": "c729959c-e4c7-429f-8d37-261e82a0e7a3",
   "metadata": {},
   "source": [
    "Известно е, че връзката между скоростта на вятъра и генерираното количество електроенергия от една вятърна турбина може да се опише чрез кубична функция.\n",
    "Във файла *wind_turbine_data_sample.csv* се съдръжат измервания за количеството прозиведена електроенергия (kW) от конкретен вятърен генератор в зависимост от скоростта на вятъра (m/s).\n",
    "Да се зареди файла и да се визуализират данните. По метода на най-малките квадрати да се построи полином от трета степен, който приближава данните.\n",
    "\n",
    "*Източник: https://www.kaggle.com/datasets/berkerisen/wind-turbine-scada-dataset/*"
   ]
  },
  {
   "cell_type": "code",
   "execution_count": 91,
   "id": "8e513825-037c-4eef-9dbd-ada9a84b1695",
   "metadata": {},
   "outputs": [
    {
     "data": {
      "text/html": [
       "<div>\n",
       "<style scoped>\n",
       "    .dataframe tbody tr th:only-of-type {\n",
       "        vertical-align: middle;\n",
       "    }\n",
       "\n",
       "    .dataframe tbody tr th {\n",
       "        vertical-align: top;\n",
       "    }\n",
       "\n",
       "    .dataframe thead th {\n",
       "        text-align: right;\n",
       "    }\n",
       "</style>\n",
       "<table border=\"1\" class=\"dataframe\">\n",
       "  <thead>\n",
       "    <tr style=\"text-align: right;\">\n",
       "      <th></th>\n",
       "      <th>wind speed</th>\n",
       "      <th>power output</th>\n",
       "    </tr>\n",
       "  </thead>\n",
       "  <tbody>\n",
       "    <tr>\n",
       "      <th>0</th>\n",
       "      <td>5.096144</td>\n",
       "      <td>553.564270</td>\n",
       "    </tr>\n",
       "    <tr>\n",
       "      <th>1</th>\n",
       "      <td>6.609746</td>\n",
       "      <td>698.286377</td>\n",
       "    </tr>\n",
       "    <tr>\n",
       "      <th>2</th>\n",
       "      <td>7.464809</td>\n",
       "      <td>1240.730957</td>\n",
       "    </tr>\n",
       "    <tr>\n",
       "      <th>3</th>\n",
       "      <td>6.646651</td>\n",
       "      <td>834.204285</td>\n",
       "    </tr>\n",
       "    <tr>\n",
       "      <th>4</th>\n",
       "      <td>5.611550</td>\n",
       "      <td>461.315887</td>\n",
       "    </tr>\n",
       "  </tbody>\n",
       "</table>\n",
       "</div>"
      ],
      "text/plain": [
       "   wind speed  power output\n",
       "0    5.096144    553.564270\n",
       "1    6.609746    698.286377\n",
       "2    7.464809   1240.730957\n",
       "3    6.646651    834.204285\n",
       "4    5.611550    461.315887"
      ]
     },
     "execution_count": 91,
     "metadata": {},
     "output_type": "execute_result"
    }
   ],
   "source": [
    "wind_df = pd.read_csv('wind_turbine_data_sample.csv')\n",
    "wind_df.head()"
   ]
  },
  {
   "cell_type": "code",
   "execution_count": 93,
   "id": "bcd5bb2d-82b9-4628-9e3a-de7089d70856",
   "metadata": {},
   "outputs": [],
   "source": [
    "wind_speed = wind_df.loc[ : , 'wind speed']\n",
    "power_output = wind_df.loc[ : , 'power output']\n",
    "n = wind_speed.size\n",
    "a, b, c, d = symbols('a, b, c, d')"
   ]
  },
  {
   "cell_type": "code",
   "execution_count": 95,
   "id": "10a2c2f3-c550-48d2-a27b-365c05cde74f",
   "metadata": {},
   "outputs": [],
   "source": [
    "def wind(x, a, b, c, d):\n",
    "    return a * (x ** 3) + b * (x ** 2) + c * x + d"
   ]
  },
  {
   "cell_type": "code",
   "execution_count": 97,
   "id": "0ce37067-1a91-4c9d-ab69-045fb74d66db",
   "metadata": {},
   "outputs": [],
   "source": [
    "def phi(n, wind_speed, power_output, a, b, c, d):\n",
    "    phi = 0\n",
    "    for i in range(n):\n",
    "        phi += ((wind(wind_speed[i], a, b, c, d) - power_output[i]) ** 2)\n",
    "    return phi"
   ]
  },
  {
   "cell_type": "code",
   "execution_count": 99,
   "id": "7f75b6c8-cf13-483f-8db8-0ba3a3796c43",
   "metadata": {},
   "outputs": [
    {
     "data": {
      "text/plain": [
       "{a: -7.59606064982793,\n",
       " b: 205.917112180286,\n",
       " c: -1334.75406713179,\n",
       " d: 2787.95787856771}"
      ]
     },
     "execution_count": 99,
     "metadata": {},
     "output_type": "execute_result"
    }
   ],
   "source": [
    "equations = [Eq(diff(phi(n, wind_speed, power_output, a, b, c, d), a), 0),\n",
    "          Eq(diff(phi(n, wind_speed, power_output, a, b, c, d), b), 0),\n",
    "           Eq(diff(phi(n, wind_speed, power_output, a, b, c, d), c), 0),\n",
    "            Eq(diff(phi(n, wind_speed, power_output, a, b, c, d), d), 0)]\n",
    "\n",
    "sol = solve(equations)\n",
    "sol"
   ]
  },
  {
   "cell_type": "code",
   "execution_count": 126,
   "id": "1ae4df0d-c647-4869-84e4-bdef74b1539f",
   "metadata": {},
   "outputs": [
    {
     "data": {
      "image/png": "[encoded data removed]",
      "text/plain": [
       "<Figure size 432x288 with 1 Axes>"
      ]
     },
     "metadata": {
      "needs_background": "light"
     },
     "output_type": "display_data"
    }
   ],
   "source": [
    "x_axis = np.linspace(5, 13, 100)\n",
    "plt.scatter(wind_speed, power_output, color = 'yellow')\n",
    "plt.plot(x_axis, \n",
    "         wind(x_axis, sol[a], sol[b], sol[c], sol[d]),\n",
    "         color = 'green')\n",
    "plt.show()"
   ]
  },
  {
   "cell_type": "code",
   "execution_count": null,
   "id": "825b24ab-607b-4cf8-bac4-acdd3e9461aa",
   "metadata": {},
   "outputs": [],
   "source": [
    "#another way"
   ]
  },
  {
   "cell_type": "code",
   "execution_count": 131,
   "id": "bd453114-cb78-4ee1-8d08-ca1ec50d7895",
   "metadata": {},
   "outputs": [
    {
     "data": {
      "image/png": "[encoded data removed]",
      "text/plain": [
       "<Figure size 432x288 with 1 Axes>"
      ]
     },
     "metadata": {
      "needs_background": "light"
     },
     "output_type": "display_data"
    }
   ],
   "source": [
    "wind_df = pd.read_csv('wind_turbine_data_sample.csv')\n",
    "\n",
    "xs = np.array(wind_df['wind speed'])\n",
    "ys = np.array(wind_df['power output'])\n",
    "\n",
    "a, b, c, d = symbols('a,b,c,d')\n",
    "\n",
    "def wind(x, params):\n",
    "    a, b, c, d = params\n",
    "    return a * x ** 3 + b * x ** 2 + c * x + d\n",
    "\n",
    "phi = 0 \n",
    "for i in range(xs.size):\n",
    "    phi += (wind(xs[i], (a,b,c,d)) - ys[i]) ** 2\n",
    "\n",
    "expand(phi)\n",
    "\n",
    "sol = solve([Eq(diff(phi , a), 0),\n",
    "             Eq(diff(phi, b), 0),\n",
    "            Eq(diff(phi, c) , 0),\n",
    "            Eq(diff(phi, d), 0)\n",
    "            ])\n",
    "sol\n",
    "\n",
    "x_axis = np.linspace(5, 13, 100)\n",
    "plt.plot(x_axis, wind(x_axis, (sol[a], sol[b], sol[c], sol[d])), color = 'red')\n",
    "plt.scatter(xs, ys)\n",
    "plt.show()"
   ]
  },
  {
   "cell_type": "markdown",
   "id": "5d9c08fa-5fd2-42c9-9509-b9fa99593675",
   "metadata": {},
   "source": [
    "### Задача 4"
   ]
  },
  {
   "cell_type": "markdown",
   "id": "22fd7709-a07d-432c-9216-e922a58f3878",
   "metadata": {},
   "source": [
    "Във файла *amazon_sales_net_revenue.csv* се съдръжат данни за годишния приход на Amazon в млрд. щатски долари за периода 2004 - 2021г. Да се зареди файла и да се визуализират данните. По метода на най-малките квадрати, да се построи функция от вида $ f(x) = a e^{bx}$, която моделира данните.\n",
    "\n",
    "\n",
    "*Източник: https://www.statista.com/statistics/266282/annual-net-revenue-of-amazoncom/*"
   ]
  },
  {
   "cell_type": "code",
   "execution_count": 134,
   "id": "e52bb48d-ef98-4d77-b6b0-57f2cd0cc9e6",
   "metadata": {},
   "outputs": [
    {
     "data": {
      "text/html": [
       "<div>\n",
       "<style scoped>\n",
       "    .dataframe tbody tr th:only-of-type {\n",
       "        vertical-align: middle;\n",
       "    }\n",
       "\n",
       "    .dataframe tbody tr th {\n",
       "        vertical-align: top;\n",
       "    }\n",
       "\n",
       "    .dataframe thead th {\n",
       "        text-align: right;\n",
       "    }\n",
       "</style>\n",
       "<table border=\"1\" class=\"dataframe\">\n",
       "  <thead>\n",
       "    <tr style=\"text-align: right;\">\n",
       "      <th></th>\n",
       "      <th>year</th>\n",
       "      <th>revenue</th>\n",
       "    </tr>\n",
       "  </thead>\n",
       "  <tbody>\n",
       "    <tr>\n",
       "      <th>0</th>\n",
       "      <td>2004</td>\n",
       "      <td>6.92</td>\n",
       "    </tr>\n",
       "    <tr>\n",
       "      <th>1</th>\n",
       "      <td>2005</td>\n",
       "      <td>8.49</td>\n",
       "    </tr>\n",
       "    <tr>\n",
       "      <th>2</th>\n",
       "      <td>2006</td>\n",
       "      <td>10.71</td>\n",
       "    </tr>\n",
       "    <tr>\n",
       "      <th>3</th>\n",
       "      <td>2007</td>\n",
       "      <td>14.84</td>\n",
       "    </tr>\n",
       "    <tr>\n",
       "      <th>4</th>\n",
       "      <td>2008</td>\n",
       "      <td>19.17</td>\n",
       "    </tr>\n",
       "  </tbody>\n",
       "</table>\n",
       "</div>"
      ],
      "text/plain": [
       "   year  revenue\n",
       "0  2004     6.92\n",
       "1  2005     8.49\n",
       "2  2006    10.71\n",
       "3  2007    14.84\n",
       "4  2008    19.17"
      ]
     },
     "execution_count": 134,
     "metadata": {},
     "output_type": "execute_result"
    }
   ],
   "source": [
    "amazon_df = pd.read_csv('amazon_sales_net_revenue.csv')\n",
    "amazon_df.head()"
   ]
  },
  {
   "cell_type": "code",
   "execution_count": 165,
   "id": "12fc2bbe-0d3c-4358-9ee1-42dcd36496ad",
   "metadata": {},
   "outputs": [],
   "source": [
    "years = amazon_df.loc[:, 'year']\n",
    "revenue = amazon_df.loc[:, 'revenue']\n",
    "size = years.size\n",
    "c,b = symbols('c, b')"
   ]
  },
  {
   "cell_type": "code",
   "execution_count": 167,
   "id": "2322808d-ed1b-475e-a6c2-e4700976bc5c",
   "metadata": {},
   "outputs": [
    {
     "data": {
      "image/png": "[encoded data removed]",
      "text/plain": [
       "<Figure size 432x288 with 1 Axes>"
      ]
     },
     "metadata": {
      "needs_background": "light"
     },
     "output_type": "display_data"
    }
   ],
   "source": [
    "plt.scatter(years, revenue)\n",
    "plt.xlabel('Година')\n",
    "plt.ylabel('Годишен приход (в млрд. $)')\n",
    "plt.show()"
   ]
  },
  {
   "cell_type": "code",
   "execution_count": 193,
   "id": "6eaeaee4-ff86-4b73-a31b-b08130ed3265",
   "metadata": {},
   "outputs": [],
   "source": [
    "def amazon(c, b, x):\n",
    "    return b * x + c\n",
    "\n",
    "def phi(c, b):\n",
    "    sum_of_squares = 0\n",
    "    for i in range(size):\n",
    "        sum_of_squares += (amazon(c, b, years[i]) - np.log(revenue[i])) ** 2\n",
    "    return sum_of_squares"
   ]
  },
  {
   "cell_type": "code",
   "execution_count": 195,
   "id": "bf265c8d-3a30-4ad7-9646-cb59845dc901",
   "metadata": {},
   "outputs": [
    {
     "name": "stdout",
     "output_type": "stream",
     "text": [
      "{b: 0.249215934116305, c: -497.459709696735}\n"
     ]
    }
   ],
   "source": [
    "equations = [Eq(diff(phi(c, b), b), 0),\n",
    "             Eq(diff(phi(c, b), c), 0)]\n",
    "\n",
    "sol = solve(equations)\n",
    "print(sol)"
   ]
  },
  {
   "cell_type": "code",
   "execution_count": 206,
   "id": "43dcca5b-d439-4fec-83e0-09b47e9866e1",
   "metadata": {},
   "outputs": [
    {
     "data": {
      "image/png": "[encoded data removed]",
      "text/plain": [
       "<Figure size 432x288 with 1 Axes>"
      ]
     },
     "metadata": {
      "needs_background": "light"
     },
     "output_type": "display_data"
    }
   ],
   "source": [
    "def expr_func(x):\n",
    "    return np.exp(float(sol[c]) + float(sol[b]) * x)\n",
    "\n",
    "x_axis = np.linspace(years[0], years[size - 1], 1000)\n",
    "plt.scatter(years, revenue)\n",
    "plt.plot(x_axis, expr_func(x_axis), color = 'red')\n",
    "plt.show()"
   ]
  },
  {
   "cell_type": "code",
   "execution_count": null,
   "id": "a9ce43de-97a1-4035-9cb7-7f60fb552b74",
   "metadata": {},
   "outputs": [],
   "source": [
    "#moodle way"
   ]
  },
  {
   "cell_type": "code",
   "execution_count": 14,
   "id": "329ddc16-4663-44ba-8ded-0434ea6c9dbe",
   "metadata": {},
   "outputs": [],
   "source": [
    "df = pd.read_csv('amazon_sales_net_revenue.csv')\n",
    "years = df.loc[:, \"year\"]\n",
    "revenue = df.loc[:, \"revenue\"]"
   ]
  },
  {
   "cell_type": "code",
   "execution_count": 16,
   "id": "5b5d2ae5-2bfe-4974-8c69-651952859fba",
   "metadata": {},
   "outputs": [
    {
     "name": "stdout",
     "output_type": "stream",
     "text": [
      "{b: -497.459709696735, c: 0.249215934116305}\n"
     ]
    }
   ],
   "source": [
    "c, b = symbols('c, b')\n",
    "def f(c, b, x):\n",
    "    return c * x + b\n",
    "\n",
    "def phi(c, b):\n",
    "    sum_of_squares = 0\n",
    "    for i in range(years.size):\n",
    "        sum_of_squares += (f(c, b, years[i]) - np.log(revenue[i])) ** 2\n",
    "    return sum_of_squares\n",
    "\n",
    "equations = [Eq(diff(phi(c, b), b), 0),\n",
    "             Eq(diff(phi(c, b), c), 0)]\n",
    "\n",
    "sol = solve(equations)\n",
    "print(sol)"
   ]
  },
  {
   "cell_type": "code",
   "execution_count": 18,
   "id": "2bcfc5a0-26f1-4808-a37b-5c28780afa5a",
   "metadata": {},
   "outputs": [
    {
     "data": {
      "image/png": "[encoded data removed]",
      "text/plain": [
       "<Figure size 432x288 with 1 Axes>"
      ]
     },
     "metadata": {
      "needs_background": "light"
     },
     "output_type": "display_data"
    }
   ],
   "source": [
    "def exp_func(x):\n",
    "    return np.exp(float(sol[c]) * x + float(sol[b]))\n",
    "\n",
    "x_axis = np.linspace(2004, 2021, 100)\n",
    "plt.scatter(years, revenue)\n",
    "plt.plot(x_axis, exp_func(x_axis), 'red')\n",
    "plt.show()"
   ]
  }
 ],
 "metadata": {
  "kernelspec": {
   "display_name": "anaconda-2022.05-py39",
   "language": "python",
   "name": "conda-env-anaconda-2022.05-py39-py"
  },
  "language_info": {
   "codemirror_mode": {
    "name": "ipython",
    "version": 3
   },
   "file_extension": ".py",
   "mimetype": "text/x-python",
   "name": "python",
   "nbconvert_exporter": "python",
   "pygments_lexer": "ipython3",
   "version": "3.9.12"
  }
 },
 "nbformat": 4,
 "nbformat_minor": 5
}
