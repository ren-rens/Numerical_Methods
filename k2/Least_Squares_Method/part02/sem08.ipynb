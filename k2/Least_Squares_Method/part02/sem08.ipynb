{
 "cells": [
  {
   "cell_type": "markdown",
   "id": "5a953755-a1cf-4966-ac14-dbd45c826522",
   "metadata": {},
   "source": [
    "# Метод на най-малките квадрати - Част 2. \n",
    "## Векторно-матрична форма. Решаване на преопределени системи от уравнения."
   ]
  },
  {
   "cell_type": "code",
   "execution_count": 79,
   "id": "32a693a8-f838-4797-8a9a-8a4600f62eec",
   "metadata": {},
   "outputs": [],
   "source": [
    "import numpy as np\n",
    "import matplotlib.pyplot as plt\n",
    "import pandas as pd\n",
    "from sympy import symbols, Eq, solve, diff, expand"
   ]
  },
  {
   "cell_type": "markdown",
   "id": "21de2700-f634-4427-bd83-2c98a97f0d61",
   "metadata": {},
   "source": [
    "### Задача 1\n",
    "\n",
    "Като се използва векторно-мартричната форма на метода на май-малките квадрати за приближаване с алгебрични полиноми, \n",
    "Да се намери линейна функция, която приближава данните от таблицата\n",
    "\n",
    "|x| 0 | 1 | 2 | 3 | 4\n",
    "|---|---|---|---|---|---|\n",
    "|y|0|1|1|2|2|"
   ]
  },
  {
   "cell_type": "code",
   "execution_count": 81,
   "id": "b3c73046-7b2b-40dc-a24d-16b2d3c349c2",
   "metadata": {},
   "outputs": [
    {
     "data": {
      "text/plain": [
       "array([0.2, 0.5])"
      ]
     },
     "execution_count": 81,
     "metadata": {},
     "output_type": "execute_result"
    }
   ],
   "source": [
    "def summary(n, m, s, xi):\n",
    "    sum = 0\n",
    "    for i in range(s):\n",
    "        sum += (xi[i] ** n * xi[i] ** m)\n",
    "    return sum\n",
    "\n",
    "def create_matrix(xi, size, s):\n",
    "    matrix = []\n",
    "    for i in range(size):\n",
    "        row = []\n",
    "        for j in range(size):\n",
    "            current = summary(i, j, s, xi)\n",
    "            row.append(current)\n",
    "        matrix.append(row)\n",
    "    return matrix\n",
    "\n",
    "xi = np.array([0, 1, 2, 3, 4])\n",
    "yi = np.array([0, 1, 1, 2, 2])\n",
    "size = 2\n",
    "s = 5\n",
    "\n",
    "matrix = create_matrix(xi, size, s)\n",
    "\n",
    "matrix\n",
    "\n",
    "\n",
    "def summary_yi(yi, xi, s, row):\n",
    "    sum = 0\n",
    "    for i in range(s):\n",
    "        sum += (yi[i] * xi[i] ** row)\n",
    "    return sum\n",
    "def create_coll(yi, xi, size, s):\n",
    "    coll = []\n",
    "    for row in range(size):\n",
    "        current = summary_yi(yi, xi, s, row)\n",
    "        coll.append(current)\n",
    "    return coll\n",
    "\n",
    "coll = create_coll(yi, xi, size, s)\n",
    "coll\n",
    "\n",
    "result = np.linalg.solve(matrix, coll)\n",
    "result"
   ]
  },
  {
   "cell_type": "markdown",
   "id": "3e62f5cd-5ffd-411e-9ac3-2c9603f9b657",
   "metadata": {},
   "source": [
    "### Задача 2\n",
    "\n",
    "Да се напише функция *least_squares_matrix(x, y, n)*, която приближава точките с коориднати $\\{x_i,y_i\\}, i = 0,\\dots s $ с алгебричен полином от степен $n$ по метода на най-малките квадрати, записан във векторно-матрична форма, където *x* и *y* са списъци с реални числа."
   ]
  },
  {
   "cell_type": "code",
   "execution_count": 83,
   "id": "0d64eedc-f18a-4126-a0af-4d282f8d61de",
   "metadata": {},
   "outputs": [],
   "source": [
    "def summary_matrix(x, row_idx, coll_idx):\n",
    "    sum = 0\n",
    "    for i in range(x.size):\n",
    "        sum += (x[i] ** row_idx * x[i] ** coll_idx)\n",
    "    return sum\n",
    "\n",
    "def create_matrix(x, n):\n",
    "    matrix = []\n",
    "    for i in range(n):\n",
    "        row = []\n",
    "        for j in range(n):\n",
    "            current = summary_matrix(x, i, j)\n",
    "            row.append(current)\n",
    "        matrix.append(row)\n",
    "    return matrix"
   ]
  },
  {
   "cell_type": "code",
   "execution_count": 85,
   "id": "aa234379-6191-4bc5-928b-18c4523d9ca6",
   "metadata": {},
   "outputs": [],
   "source": [
    "def summary_coll(x, y, row_idx):\n",
    "    sum = 0\n",
    "    for i in range(y.size):\n",
    "        sum += (y[i] * x[i] ** row_idx)\n",
    "    return sum\n",
    "\n",
    "def create_coll(x, y, n):\n",
    "    coll = []\n",
    "    for row_idx in range(n):\n",
    "        current = summary_coll(x, y, row_idx)\n",
    "        coll.append(current)\n",
    "    return coll"
   ]
  },
  {
   "cell_type": "code",
   "execution_count": 87,
   "id": "b31354dd-65de-4559-8440-7364646f9d41",
   "metadata": {},
   "outputs": [],
   "source": [
    "def polynomial(result):\n",
    "    x = Symbol('x')\n",
    "    poly = 0\n",
    "    for i in range(result.size):\n",
    "        poly += (result[i] * x ** i)\n",
    "    return poly"
   ]
  },
  {
   "cell_type": "code",
   "execution_count": 89,
   "id": "756f95e4-a78e-4a7d-ad11-c8ce682d3288",
   "metadata": {},
   "outputs": [],
   "source": [
    "def least_squares_matrix(x, y, n):\n",
    "    matrix = create_matrix(x, n)\n",
    "    coll = create_coll(x, y, n)\n",
    "    result = np.linalg.solve(matrix, coll)\n",
    "    poly = polynomial(result)\n",
    "    return poly"
   ]
  },
  {
   "cell_type": "code",
   "execution_count": 91,
   "id": "5e3c8c4e-e950-4ee6-a303-a6f114a41ae7",
   "metadata": {},
   "outputs": [
    {
     "data": {
      "text/latex": [
       "$\\displaystyle 0.5 x + 0.2$"
      ],
      "text/plain": [
       "0.5*x + 0.2"
      ]
     },
     "execution_count": 91,
     "metadata": {},
     "output_type": "execute_result"
    }
   ],
   "source": [
    "#testing with the 1.\n",
    "x = np.array([0, 1, 2, 3, 4])\n",
    "y = np.array([0, 1, 1, 2, 2])\n",
    "n = 2\n",
    "least_squares_matrix(x, y, n)"
   ]
  },
  {
   "cell_type": "markdown",
   "id": "c4aff6dc-2b3b-44ec-8c8d-973372743856",
   "metadata": {},
   "source": [
    "### Задача 3\n",
    "\n",
    "Като се използва написаната в Задача 2 функция, да се решат Задачи 2, 3 и 4 от Упражнение 7."
   ]
  },
  {
   "cell_type": "code",
   "execution_count": null,
   "id": "0138a85c-2c1b-406f-8513-ee556714206d",
   "metadata": {},
   "outputs": [],
   "source": []
  },
  {
   "cell_type": "markdown",
   "id": "a61299f2-82e0-43d7-b1c4-60dbe07bd859",
   "metadata": {},
   "source": [
    "### Задача 4\n",
    "Да се реши преопределената система\n",
    "\n",
    "$$\n",
    "\\left|\n",
    "\\begin{aligned}\n",
    "x-y&=1\\\\\n",
    "x+y&=1\\\\\n",
    "x+y&=-1\\\\\n",
    "x-y&=-1\n",
    "\\end{aligned}\n",
    "\\right.\n",
    "$$"
   ]
  },
  {
   "cell_type": "code",
   "execution_count": 103,
   "id": "3acfd5db-f344-4236-9e63-ebc27d819ac0",
   "metadata": {},
   "outputs": [
    {
     "name": "stdout",
     "output_type": "stream",
     "text": [
      "{x: 0, y: 0}\n"
     ]
    }
   ],
   "source": [
    "def phi(x, y):\n",
    "    phi = (x - y - 1) ** 2 + (x + y - 1) ** 2 + (x + y + 1) ** 2 + (x - y + 1) ** 2\n",
    "    return phi\n",
    "\n",
    "x, y = symbols('x, y')\n",
    "\n",
    "equations = [Eq(diff(phi(x, y), x), 0), \n",
    "            Eq(diff(phi(x, y), y), 0)]\n",
    "\n",
    "sol = solve(equations)\n",
    "print(sol)"
   ]
  },
  {
   "cell_type": "markdown",
   "id": "add9f8e4-c84f-4822-a98c-1b9e23f41cca",
   "metadata": {},
   "source": [
    "### Задача 5\n",
    "\n",
    "Да се реши преопределената система\n",
    "\n",
    "$$\n",
    "\\left|\n",
    "\\begin{aligned}\n",
    "x + y + z &= 1\\\\\n",
    "x + 2y + z&=2\\\\\n",
    "x + 3y + z &= 3\\\\\n",
    "x - 4y + z &= 4\\\\\n",
    "x + 5y + z &= 4\n",
    "\\end{aligned}\n",
    "\\right.\n",
    "$$"
   ]
  },
  {
   "cell_type": "code",
   "execution_count": 108,
   "id": "0f6851be-ccf8-4ac5-96bb-36e1fe80da34",
   "metadata": {},
   "outputs": [
    {
     "data": {
      "text/plain": [
       "{x: 322/113 - z, y: -4/113}"
      ]
     },
     "execution_count": 108,
     "metadata": {},
     "output_type": "execute_result"
    }
   ],
   "source": [
    "from sympy import symbols, Eq, solve, diff\n",
    "\n",
    "x, y, z = symbols('x,y,z')\n",
    "\n",
    "phi = (x + y + z - 1) ** 2 + (x + 2 * y + z - 2) ** 2 + (x + 3 * y + z - 3) ** 2 + (x - 4 * y + z - 4) ** 2 + (x + 5 * y + z - 4) ** 2\n",
    "\n",
    "\n",
    "solve(\n",
    "    [Eq(diff(phi , x), 0),\n",
    "     Eq(diff(phi, y), 0),\n",
    "     Eq(diff(phi, z), 0)]\n",
    "    )\n"
   ]
  },
  {
   "cell_type": "code",
   "execution_count": 106,
   "id": "df7aba10-aeb4-40ee-9956-a20dd1064e39",
   "metadata": {},
   "outputs": [
    {
     "data": {
      "text/plain": [
       "{x: 322/113 - z, y: -4/113}"
      ]
     },
     "execution_count": 106,
     "metadata": {},
     "output_type": "execute_result"
    }
   ],
   "source": [
    "def phi(x, y, z):\n",
    "    phi = (x + y + z - 1) ** 2 + (x + 2 * y + z - 2) ** 2 + (x + 3 * y + z - 3) ** 2 + (x - 4 * y + z - 4) ** 2 + (x + 5 * y + z - 4) ** 2\n",
    "    return phi\n",
    "\n",
    "x,y,z = symbols('x, y, z')\n",
    "\n",
    "solve(\n",
    "    [\n",
    "        Eq(diff(phi(x, y, z), x), 0),\n",
    "        Eq(diff(phi(x, y, z), y), 0),\n",
    "        Eq(diff(phi(x, y, z), z), 0)\n",
    "    ]\n",
    ")"
   ]
  }
 ],
 "metadata": {
  "kernelspec": {
   "display_name": "anaconda-panel-2023.05-py310",
   "language": "python",
   "name": "conda-env-anaconda-panel-2023.05-py310-py"
  },
  "language_info": {
   "codemirror_mode": {
    "name": "ipython",
    "version": 3
   },
   "file_extension": ".py",
   "mimetype": "text/x-python",
   "name": "python",
   "nbconvert_exporter": "python",
   "pygments_lexer": "ipython3",
   "version": "3.11.5"
  }
 },
 "nbformat": 4,
 "nbformat_minor": 5
}
