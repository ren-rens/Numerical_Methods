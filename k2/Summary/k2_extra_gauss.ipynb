{
 "cells": [
  {
   "cell_type": "code",
   "execution_count": 4,
   "id": "c4804353-5d94-43f1-abbd-2d33fabfcaeb",
   "metadata": {},
   "outputs": [],
   "source": [
    "import numpy as np\n",
    "from sympy import diff, symbols, Symbol, Eq, solve, integrate\n",
    "import matplotlib.pyplot as plt"
   ]
  },
  {
   "cell_type": "code",
   "execution_count": 21,
   "id": "da219b3f-ba6f-4a1f-993b-b008110325b7",
   "metadata": {},
   "outputs": [
    {
     "name": "stdout",
     "output_type": "stream",
     "text": [
      "0.965182562097715\n"
     ]
    }
   ],
   "source": [
    "#7.\n",
    "n = 3\n",
    "a = 0\n",
    "b = 1\n",
    "\n",
    "def f(x):\n",
    "    return np.exp(np.sin(x)) - 2 * (x ** 2) \n",
    "\n",
    "def phi(x):\n",
    "    return (b - a) / 2 * f((b + a) / 2 + x * (b - a) / 2)\n",
    "\n",
    "A1, A2, A3, x1, x2, x3, x = symbols('A1, A2, A3, x1, x2, x3, x')\n",
    "equations = [\n",
    "    Eq(A1 + A2 + A3, integrate(1, (x, -1, 1))),\n",
    "    Eq(A1 * x1 + A2 * x2 + A3 * x3, integrate(x, (x, -1, 1))),\n",
    "    Eq(A1 * (x1 ** 2) + A2 * (x2 ** 2) + A3 * (x3 ** 2), integrate(x ** 2, (x, -1, 1))),\n",
    "    Eq(A1 * (x1 ** 3) + A2 * (x2 ** 3) + A3 * (x3 ** 3), integrate(x ** 3, (x, -1, 1))),\n",
    "    Eq(A1 * (x1 ** 4) + A2 * (x2 ** 4) + A3 * (x3 ** 4), integrate(x ** 4, (x, -1, 1))),\n",
    "    Eq(A1 * (x1 ** 5) + A2 * (x2 ** 5) + A3 * (x3 ** 5), integrate(x ** 5, (x, -1, 1)))\n",
    "]\n",
    "\n",
    "sol = solve(equations)\n",
    "coef = sol[0]\n",
    "\n",
    "result = coef[A1] * phi(float(coef[x1])) + coef[A2] * phi(float(coef[x2])) + coef[A3] * phi(float(coef[x3]))\n",
    "\n",
    "print(result)"
   ]
  },
  {
   "cell_type": "code",
   "execution_count": 40,
   "id": "e2ecf609-ee1d-4b18-8eb5-270293b17635",
   "metadata": {},
   "outputs": [
    {
     "data": {
      "text/plain": [
       "7.475200000000001"
      ]
     },
     "execution_count": 40,
     "metadata": {},
     "output_type": "execute_result"
    }
   ],
   "source": [
    "#8.\n",
    "def f(x):\n",
    "    return -x ** 4 + 1\n",
    "\n",
    "a = -1\n",
    "b = 1\n",
    "\n",
    "n = 5\n",
    "\n",
    "x_mesh = np.linspace(a, b, n + 1)\n",
    "\n",
    "#trapezoid\n",
    "def trapezoid_I(x):\n",
    "    trap = 0\n",
    "    for i in range(n):\n",
    "        trap += (f(x[i]) + f(x[i + 1]))\n",
    "    trap *= ((b - a) / 2)\n",
    "    return trap\n",
    "\n",
    "trapezoid_I(x_mesh)"
   ]
  }
 ],
 "metadata": {
  "kernelspec": {
   "display_name": "anaconda-panel-2023.05-py310",
   "language": "python",
   "name": "conda-env-anaconda-panel-2023.05-py310-py"
  },
  "language_info": {
   "codemirror_mode": {
    "name": "ipython",
    "version": 3
   },
   "file_extension": ".py",
   "mimetype": "text/x-python",
   "name": "python",
   "nbconvert_exporter": "python",
   "pygments_lexer": "ipython3",
   "version": "3.11.5"
  }
 },
 "nbformat": 4,
 "nbformat_minor": 5
}
