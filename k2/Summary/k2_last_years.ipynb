{
 "cells": [
  {
   "cell_type": "code",
   "execution_count": 3,
   "id": "ff18d731-12e5-4be9-b2f1-58e22a1108c1",
   "metadata": {},
   "outputs": [],
   "source": [
    "import numpy as np\n",
    "from sympy import Eq, solve, diff, symbols, Symbol, cos, sin, pi, integrate\n",
    "import matplotlib.pyplot as plt"
   ]
  },
  {
   "cell_type": "code",
   "execution_count": 6,
   "id": "b6725006-3453-4a1e-9e1a-3987a5fc94fd",
   "metadata": {},
   "outputs": [
    {
     "data": {
      "image/png": "[encoded data removed]",
      "text/plain": [
       "<Figure size 640x480 with 1 Axes>"
      ]
     },
     "metadata": {},
     "output_type": "display_data"
    }
   ],
   "source": [
    "#1.\n",
    "n = 3\n",
    "a = 0.1\n",
    "b = 0.2\n",
    "\n",
    "def f(x):\n",
    "    return np.log(x) ** 2\n",
    "\n",
    "x_axis = np.linspace(a, b, 1000)\n",
    "y_vals = f(x_axis)\n",
    "\n",
    "a,b,c,d,x = symbols('a,b,c,d,x')\n",
    "\n",
    "def poly(a,b,c,d, x):\n",
    "    return a * x**3 + b * x**2 + c * x + d\n",
    "\n",
    "def summary_matrix(x, size, pow_x):\n",
    "    sum = 0\n",
    "    for i in range(size):\n",
    "        sum += x[i]**pow_x\n",
    "    return sum\n",
    "\n",
    "def create_matrix(x, size, n):\n",
    "    matrix = []\n",
    "    for i in range(n):\n",
    "        row = []\n",
    "        for j in range(n):\n",
    "            row.append(summary_matrix(x, size, i + j))\n",
    "        matrix.append(row)\n",
    "    return matrix\n",
    "\n",
    "def summary_col(x, y, size, pow_x):\n",
    "    sum = 0\n",
    "    for i in range(size):\n",
    "        sum += (y[i] * x[i]**pow_x)\n",
    "    return sum\n",
    "\n",
    "def create_coll(x, y, size, n):\n",
    "    coll = []\n",
    "    for i in range(n):\n",
    "        coll.append(summary_col(x, y, size, i))\n",
    "    return coll\n",
    "\n",
    "def least_squares(x, y, n):\n",
    "    size = x.size\n",
    "    matrix = create_matrix(x, size, n)\n",
    "    coll = create_coll(x, y, size, n)\n",
    "    res = np.linalg.solve(matrix, coll)\n",
    "    return res\n",
    "\n",
    "sol = least_squares(x_axis, y_vals, 4)\n",
    "\n",
    "plt.scatter(x_axis, y_vals, color = 'yellow')\n",
    "plt.plot(x_axis, poly(sol[3], sol[2], sol[1], sol[0], x_axis), color = 'green')\n",
    "plt.show()"
   ]
  },
  {
   "cell_type": "code",
   "execution_count": 8,
   "id": "90739f0c-006c-4dc9-a641-c470e7fd7289",
   "metadata": {},
   "outputs": [
    {
     "data": {
      "text/latex": [
       "$\\displaystyle \\frac{41 \\sqrt{2}}{2}$"
      ],
      "text/plain": [
       "41*sqrt(2)/2"
      ]
     },
     "execution_count": 8,
     "metadata": {},
     "output_type": "execute_result"
    }
   ],
   "source": [
    "#2.\n",
    "n,x = symbols('n,x')\n",
    "\n",
    "a = pi / 4\n",
    "b = pi / 2\n",
    "\n",
    "def f(x):\n",
    "    return cos(x) * sin(2 * x)\n",
    "\n",
    "\n",
    "derivateI = diff(f(x), x)\n",
    "derivateII = diff(derivateI, x)\n",
    "derivateIII = diff(derivateII, x)\n",
    "derivateIV = diff(derivateIII, x)\n",
    "\n",
    "derivateIV.subs(x, a)\n"
   ]
  },
  {
   "cell_type": "code",
   "execution_count": 10,
   "id": "ed538321-cbbc-47c8-ba41-055d6a0976b2",
   "metadata": {},
   "outputs": [
    {
     "data": {
      "text/latex": [
       "$\\displaystyle - \\frac{41 \\sqrt{2} \\pi^{5}}{5898240 n^{4}}$"
      ],
      "text/plain": [
       "-41*sqrt(2)*pi**5/(5898240*n**4)"
      ]
     },
     "execution_count": 10,
     "metadata": {},
     "output_type": "execute_result"
    }
   ],
   "source": [
    "R_Simpson = - (b - a)**5 / (2880 * n**4) * derivateIV.subs(x, a)\n",
    "R_Simpson"
   ]
  },
  {
   "cell_type": "code",
   "execution_count": 12,
   "id": "bfe9ee6f-d591-402f-abfb-ae4aa84af3e4",
   "metadata": {},
   "outputs": [
    {
     "name": "stdout",
     "output_type": "stream",
     "text": [
      "n =  5\n"
     ]
    }
   ],
   "source": [
    "n = int(np.ceil(np.sqrt(np.sqrt(10**5 * np.pi**5 * 41 * np.sqrt(2) / 5898240))))\n",
    "print(\"n = \", n)"
   ]
  },
  {
   "cell_type": "code",
   "execution_count": 18,
   "id": "91f465d2-9c74-4970-8635-6c7733aaf7a4",
   "metadata": {},
   "outputs": [
    {
     "name": "stdout",
     "output_type": "stream",
     "text": [
      "Simpson value =  0.23570030384505322\n"
     ]
    }
   ],
   "source": [
    "approximate_value = 0\n",
    "x_mash = np.linspace(np.pi / 4, np.pi / 2, n + 1)\n",
    "\n",
    "\n",
    "def func(x):\n",
    "    return np.cos(x) * np.sin(2 * x)\n",
    "\n",
    "for i in range(1, x_mash.size):\n",
    "    approximate_value += (func(x_mash[i - 1]) + 4 * func((x_mash[i] + x_mash[i-1]) / 2) + func(x_mash[i]))\n",
    "\n",
    "approximate_value *= (np.pi / 2 - np.pi / 4)/ (6 * n)\n",
    "\n",
    "print(\"Simpson value = \", approximate_value)"
   ]
  },
  {
   "cell_type": "code",
   "execution_count": 20,
   "id": "58b2893e-4fcc-4d12-a4e9-8a58893b4db1",
   "metadata": {},
   "outputs": [
    {
     "name": "stdout",
     "output_type": "stream",
     "text": [
      "Real value =  0.235702260395516\n"
     ]
    }
   ],
   "source": [
    "x = Symbol('x')\n",
    "real_val = integrate(f(x), (x, np.pi / 4, np.pi / 2))\n",
    "print(\"Real value = \", real_val)"
   ]
  },
  {
   "cell_type": "code",
   "execution_count": 5,
   "id": "7230617b-ea9b-455c-8067-ffa1ad2e9380",
   "metadata": {},
   "outputs": [],
   "source": [
    "a = -np.pi\n",
    "b = 0\n",
    "\n",
    "def f(x):\n",
    "    return np.cos(x) ** 3 + 141\n",
    "\n",
    "n = 3\n",
    "A1, A2, A3, x1, x2, x3, x = symbols('A1, A2, A3, x1, x2, x3, x')\n"
   ]
  },
  {
   "cell_type": "code",
   "execution_count": null,
   "id": "ae7acdbd-d035-4a83-877a-db85c0638484",
   "metadata": {},
   "outputs": [],
   "source": [
    "\n",
    "equations = [\n",
    "    Eq(A1 + A2 + A3, integrate(1, (x, a, b))), \n",
    "    Eq(A1 * x1 + A2 * x2 + A3 * x3, integrate(x, (x, a, b))), \n",
    "    Eq(A1 * (x1 ** 2) + A2 * (x2 ** 2) + A3 * (x3 ** 2), integrate(x ** 2, (x, a, b))), \n",
    "    Eq(A1 * (x1 ** 3) + A2 * (x2 ** 3) + A3 * (x3 ** 3), integrate(x ** 3, (x, a, b))), \n",
    "    Eq(A1 * (x1 ** 4) + A2 * (x2 ** 4) + A3 * (x3 ** 4), integrate(x ** 4, (x, a, b))), \n",
    "    Eq(A1 * (x1 ** 5) + A2 * (x2 ** 5) + A3 * (x3 ** 5), integrate(x ** 5, (x, a, b)))\n",
    "]\n",
    "\n",
    "sol = solve(equations)\n"
   ]
  },
  {
   "cell_type": "code",
   "execution_count": null,
   "id": "f7cbdbec-7193-419c-bd6f-39f661261503",
   "metadata": {},
   "outputs": [],
   "source": [
    "coef = sol[0]\n",
    "\n",
    "formule = coef[A1] * f(float(coef[x1])) + coef[A2] * f(float(coef[x2])) + coef[A3] * f(float(coef[x3]))\n",
    "print(formule)"
   ]
  },
  {
   "cell_type": "code",
   "execution_count": null,
   "id": "0d9aece7-d575-42c2-ac70-21c7cfc5d0f0",
   "metadata": {},
   "outputs": [],
   "source": []
  }
 ],
 "metadata": {
  "kernelspec": {
   "display_name": "anaconda-panel-2023.05-py310",
   "language": "python",
   "name": "conda-env-anaconda-panel-2023.05-py310-py"
  },
  "language_info": {
   "codemirror_mode": {
    "name": "ipython",
    "version": 3
   },
   "file_extension": ".py",
   "mimetype": "text/x-python",
   "name": "python",
   "nbconvert_exporter": "python",
   "pygments_lexer": "ipython3",
   "version": "3.11.5"
  }
 },
 "nbformat": 4,
 "nbformat_minor": 5
}
