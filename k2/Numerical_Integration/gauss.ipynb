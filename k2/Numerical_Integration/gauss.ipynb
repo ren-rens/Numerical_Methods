{
 "cells": [
  {
   "cell_type": "code",
   "execution_count": 1,
   "id": "b41a3b86",
   "metadata": {},
   "outputs": [],
   "source": [
    "import scipy as sp\n",
    "import numpy as np\n",
    "import matplotlib.pyplot as plt\n",
    "from sympy import symbols, Eq, solve, integrate, Symbol, diff"
   ]
  },
  {
   "cell_type": "markdown",
   "id": "4726c10e",
   "metadata": {},
   "source": [
    "# Числено интегриране\n",
    "## Квадратурна формула на Гаус"
   ]
  },
  {
   "cell_type": "markdown",
   "id": "956a0524-366b-4c53-b85e-f85b2530c433",
   "metadata": {},
   "source": [
    "### Задача 1\n",
    "\n",
    "По метода на неопределените коефициенти да се намери формула на Гаус-Льожандър с 2 възела."
   ]
  },
  {
   "cell_type": "code",
   "execution_count": 2,
   "id": "b3d4b2f2-3f94-4cdc-a86b-8e554798805e",
   "metadata": {},
   "outputs": [],
   "source": [
    "from sympy import symbols, Eq, solve, integrate, Symbol, diff"
   ]
  },
  {
   "cell_type": "code",
   "execution_count": 5,
   "id": "6d42a86b-b408-4f24-9f66-73a3a9524d13",
   "metadata": {},
   "outputs": [
    {
     "data": {
      "text/plain": [
       "[{A1: 1, x1: -sqrt(3)/3, A2: 1, x2: sqrt(3)/3},\n",
       " {A1: 1, x1: sqrt(3)/3, A2: 1, x2: -sqrt(3)/3}]"
      ]
     },
     "execution_count": 5,
     "metadata": {},
     "output_type": "execute_result"
    }
   ],
   "source": [
    "A1, x1, A2, x2, x = symbols('A1 x1 A2 x2 x')\n",
    "equations = [Eq(A1 + A2, integrate(1, (x, -1, 1))), \n",
    "            Eq(A1 * x1 + A2 * x2, integrate(x, (x, -1, 1))),\n",
    "            Eq(A1 * x1 ** 2 + A2 * x2 ** 2, integrate(x ** 2, (x, -1, 1))),\n",
    "            Eq(A1 * x1 ** 3 + A2 * x2 ** 3, integrate(x ** 3, (x, -1, 1)))\n",
    "            ]\n",
    "solve(equations, A1, x1, A2, x2, dict = True)"
   ]
  },
  {
   "cell_type": "markdown",
   "id": "eda1f047-d0bb-4c62-ae13-d815afc46a14",
   "metadata": {},
   "source": [
    "### Задача 2\n",
    "\n",
    "По метода на неопределените коефициенти да се намери формула на Гаус-Льожандър с 3 възела."
   ]
  },
  {
   "cell_type": "code",
   "execution_count": null,
   "id": "d18d7f76-237c-4238-90ff-2150ca7a9c79",
   "metadata": {},
   "outputs": [],
   "source": []
  },
  {
   "cell_type": "markdown",
   "id": "cceac7bf",
   "metadata": {},
   "source": [
    "### Задача 3\n",
    "\n",
    "Да се пресметне приближено стойността на \n",
    "\n",
    "$$ \\int_{0}^{0.8} f(x) \\,dx $$\n",
    "\n",
    "където \n",
    "$$ f(x) = 0.2 + 25x - 200x^2 +675 x^3 - 900x^4 + 400x^5, $$\n",
    "\n",
    "като се използват формулите на Гаус-Льожандър с 2 и 3 възела. Да се сравни с точната стойност.Да се сравни със стойността, която се получава по формулите на трапеците и Симпсън.\n",
    "\n"
   ]
  },
  {
   "cell_type": "code",
   "execution_count": 17,
   "id": "9f4e0351-67f0-4e57-ae23-34013c29afee",
   "metadata": {},
   "outputs": [
    {
     "name": "stdout",
     "output_type": "stream",
     "text": [
      "1.64053333333333\n"
     ]
    }
   ],
   "source": [
    "def f(x):\n",
    "    return 0.2 + 25 * x - 200 * (x ** 2) + 675 * (x ** 3) - 900 * (x ** 4) + 400 * (x ** 5)\n",
    "\n",
    "#x = Symbol('x')\n",
    "actual_val = integrate(f(x), (x, 0, 0.8))\n",
    "print(actual_val)"
   ]
  },
  {
   "cell_type": "code",
   "execution_count": 19,
   "id": "2e598848-7673-4019-83f1-7def908596da",
   "metadata": {},
   "outputs": [],
   "source": [
    "a = 0\n",
    "b = 0.8"
   ]
  },
  {
   "cell_type": "code",
   "execution_count": 21,
   "id": "15c4278e-9694-46a0-986f-e9949ecce205",
   "metadata": {},
   "outputs": [
    {
     "name": "stdout",
     "output_type": "stream",
     "text": [
      "Gauss-Legendre 2 nodes:  1.8225777777777772\n",
      "Gauss-Legendre 3 nodes:  1.640533333333329\n"
     ]
    }
   ],
   "source": [
    "t = Symbol('t')\n",
    "\n",
    "def phi(t):\n",
    "    return 0.4 * f(0.4 + 0.4 * t)\n",
    "\n",
    "print(\"Gauss-Legendre 2 nodes: \", phi( - 1/np.sqrt(3)) + phi(1 / np.sqrt(3)))\n",
    "\n",
    "print(\"Gauss-Legendre 3 nodes: \", 5 / 9 * phi(-np.sqrt(3 / 5)) + 8 / 9 * phi(0) + 5 / 9 * phi(np.sqrt(3 / 5)))"
   ]
  },
  {
   "cell_type": "code",
   "execution_count": 23,
   "id": "6c5aabb3-bc30-4d26-b6c8-de4471c55c84",
   "metadata": {},
   "outputs": [
    {
     "name": "stdout",
     "output_type": "stream",
     "text": [
      "Trapezoid:  0.1728000000000225\n",
      "Simpson:  1.3674666666666742\n"
     ]
    }
   ],
   "source": [
    "#trapezoidal\n",
    "print(\"Trapezoid: \", (b - a) / 2 * (f(a) + f(b)))\n",
    "\n",
    "#simpson\n",
    "print(\"Simpson: \", (b - a) / 6 * (f(a) + 4 * f((a + b) / 2) + f(b)))"
   ]
  },
  {
   "cell_type": "markdown",
   "id": "a234d767",
   "metadata": {},
   "source": [
    "### Задача 4\n",
    "Да се намери квадратурна формула на Гаус с 3 възела с тегло $\\mu (x) = 1$ в интереала $[0,1]$. Последната да се използва, за да се пресметне\n",
    "\n",
    "$$ \\int_{0}^{1} \\sin(2x) \\,dx. $$"
   ]
  },
  {
   "cell_type": "code",
   "execution_count": 9,
   "id": "bb66b8fd-6d53-4bf6-b812-54fd069c1f36",
   "metadata": {},
   "outputs": [
    {
     "name": "stdout",
     "output_type": "stream",
     "text": [
      "0.708099326370476\n"
     ]
    }
   ],
   "source": [
    "def f(x):\n",
    "    return np.sin(2 * x)\n",
    "\n",
    "n = 3\n",
    "A1, A2, A3, x1, x2, x3, x = symbols('A1, A2, A3, x1, x2, x3, x')\n",
    "\n",
    "equations = [\n",
    "    Eq(A1 + A2 + A3, integrate(1, (x, 0, 1))), \n",
    "    Eq(A1 * x1 + A2 * x2 + A3 * x3, integrate(x, (x, 0, 1))), \n",
    "    Eq(A1 * (x1 ** 2) + A2 * (x2 ** 2) + A3 * (x3 ** 2), integrate(x ** 2, (x, 0, 1))), \n",
    "    Eq(A1 * (x1 ** 3) + A2 * (x2 ** 3) + A3 * (x3 ** 3), integrate(x ** 3, (x, 0, 1))), \n",
    "    Eq(A1 * (x1 ** 4) + A2 * (x2 ** 4) + A3 * (x3 ** 4), integrate(x ** 4, (x, 0, 1))), \n",
    "    Eq(A1 * (x1 ** 5) + A2 * (x2 ** 5) + A3 * (x3 ** 5), integrate(x ** 5, (x, 0, 1)))\n",
    "]\n",
    "\n",
    "sol = solve(equations)\n",
    "\n",
    "coef = sol[0]\n",
    "\n",
    "formule = coef[A1] * f(float(coef[x1])) + coef[A2] * f(float(coef[x2])) + coef[A3] * f(float(coef[x3]))\n",
    "print(formule)"
   ]
  }
 ],
 "metadata": {
  "kernelspec": {
   "display_name": "anaconda-2022.05-py39",
   "language": "python",
   "name": "conda-env-anaconda-2022.05-py39-py"
  },
  "language_info": {
   "codemirror_mode": {
    "name": "ipython",
    "version": 3
   },
   "file_extension": ".py",
   "mimetype": "text/x-python",
   "name": "python",
   "nbconvert_exporter": "python",
   "pygments_lexer": "ipython3",
   "version": "3.9.12"
  }
 },
 "nbformat": 4,
 "nbformat_minor": 5
}
