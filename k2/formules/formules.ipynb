{
 "cells": [
  {
   "cell_type": "code",
   "execution_count": 1,
   "id": "9d19717d-5356-420d-99d1-e147865ebfde",
   "metadata": {},
   "outputs": [],
   "source": [
    "import numpy as np\n",
    "from sympy import Symbol, symbols, diff, Eq, solve\n",
    "import matplotlib.pyplot as plt"
   ]
  },
  {
   "cell_type": "code",
   "execution_count": null,
   "id": "4ba88ae8-706f-49ea-b928-8a57dd46cdb8",
   "metadata": {},
   "outputs": [],
   "source": [
    "# Квадратурна формула на правоъгълниците\n",
    "I_rectangles = (b - a) * f((a + b) / 2)\n",
    "R_rectangles = derivateII.subs(x, phsy) / 24 * (b - a) ** 3\n",
    "\n",
    "# Квадратурна формула на трапеците\n",
    "I_trapezoid = (b - a) / 2 * (f(a) + f(b))\n",
    "R_trapezoid = - derivateII.subs(x, phsy) / 12 * (b - a) ** 3\n",
    "\n",
    "# Квадратурна формула на Симпсън\n",
    "I_Simpson = (b - a) / 6 * (f(a) + 4 * f((a + b) / 2) + f(b))\n",
    "R_Simpson = - derivateIV.subs(x, phsy) / 2880 * (b - a) ** 5\n",
    "\n",
    "# Съставна квадратурна формула на правоъгълниците\n",
    "def summary_rectangles(n):\n",
    "    summary = 0\n",
    "    for i in range(1, n):\n",
    "        summary += (f(x[i - 1] + x[i])/ 2)\n",
    "    return summary\n",
    "\n",
    "I_rectangles = (b - a) / n * summary_rectangles(n)\n",
    "R_rectangles = (b - a) ** 3 / (24 * n ** 2) * derivateII.subs(x, phsy)\n",
    "\n",
    "# Съставна квадратурна формула на трапеците\n",
    "def summary_trapezoid(n):\n",
    "    summary = 0\n",
    "    for i in range(1, n):\n",
    "        summary += f(x[i - 1]) + f(x[i])\n",
    "    return summary\n",
    "\n",
    "I_trapezoid = (b - a) / (2 * n) * summary_trapezoid(n)\n",
    "R_trapezoid = - (b - a) ** 3 / (12 * n ** 2) * derivateII.subs(x, phsy)\n",
    "\n",
    "# Съставна квадратурна формула на Симпсън\n",
    "def summary_Simpson(n):\n",
    "    summary = 0\n",
    "    for i in range(1, n):\n",
    "        summary += (f(x[i - 1]) + 4 * f((x[i] + x[i - 1]) / 2) + f(x[i]))\n",
    "    return summary\n",
    "\n",
    "I_Simpson = (b - a) / (6 * n) * summary_Simpson(n)\n",
    "R_Simpson = - (b - a) ** 5 / (2880 * n ** 4) * derivateIV.subs(x, phsy)\n",
    "\n",
    "#least_squares matrix\n",
    "def summary_matrix(x, size, pow_x):\n",
    "    summary = 0\n",
    "    for i in range(size):\n",
    "        summary += (x[i] ** (pow_x))\n",
    "    return summary\n",
    "\n",
    "def create_matrix(x, n, size):\n",
    "    matrix = []\n",
    "    for i in range(n):\n",
    "        row = []\n",
    "        for j in range(n):\n",
    "            row.append(summary_matrix(x, size, j + i))\n",
    "        matrix.append(row)\n",
    "    return matrix\n",
    "\n",
    "def summary_coll(x, y, size, pow_x):\n",
    "    summary = 0\n",
    "    for i in range(size):\n",
    "        summary += (y[i] * x[i] ** pow_x)\n",
    "    return summary\n",
    "\n",
    "def create_coll(x, y, n, size):\n",
    "    coll = []\n",
    "    for i in range(n):\n",
    "        coll.append(summary_coll(x, y, size, i))\n",
    "    return coll\n",
    "\n",
    "def create_polynomial(result):\n",
    "    x = Symbol('x')\n",
    "    poly = 0\n",
    "    for i in range(result.size):\n",
    "        poly += (result[i] * x ** i)\n",
    "    return poly\n",
    "\n",
    "def least_squares_matrix(x, y, n):\n",
    "    size = x.size\n",
    "    matrix = create_matrix(x, n, size)\n",
    "    coll = create_coll(x, y, n, size)\n",
    "    result = np.linalg.solve(matrix, coll)\n",
    "    polynomial = create_polynomial(result)\n",
    "    return polynomial"
   ]
  },
  {
   "cell_type": "code",
   "execution_count": null,
   "id": "228f533c-65c1-41e8-be02-d9fdbf889674",
   "metadata": {},
   "outputs": [],
   "source": [
    "# Квадратурна формула на правоъгълниците\n",
    "I_rectangles = (b - a) * f((a + b) / 2)\n",
    "R_rectangles = derivateII.subs(x, phsy) / 24 * (b - a) ** 3"
   ]
  },
  {
   "cell_type": "code",
   "execution_count": null,
   "id": "4870af51-b2b2-4f12-b2d5-aad29127b07d",
   "metadata": {},
   "outputs": [],
   "source": [
    "# Квадратурна формула на трапеците\n",
    "I_trapezoid = (b - a) / 2 * (f(a) + f(b))\n",
    "R_trapezoid = - derivateII.subs(x, phsy) / 12 * (b - a) ** 3"
   ]
  },
  {
   "cell_type": "code",
   "execution_count": null,
   "id": "40cefad1-9f8d-42e2-9762-064435baad9a",
   "metadata": {},
   "outputs": [],
   "source": [
    "# Квадратурна формула на Симпсън\n",
    "I_Simpson = (b - a) / 6 * (f(a) + 4 * f((a + b) / 2) + f(b))\n",
    "R_Simpson = - derivateIV.subs(x, phsy) / 2880 * (b - a) ** 5"
   ]
  },
  {
   "cell_type": "code",
   "execution_count": null,
   "id": "40820e39-5d76-45ab-8ee1-761148ea5bde",
   "metadata": {},
   "outputs": [],
   "source": [
    "# Съставна квадратурна формула на правоъгълниците\n",
    "def summary_rectangles(n):\n",
    "    summary = 0\n",
    "    for i in range(1, n):\n",
    "        summary += (f(x[i - 1] + x[i])/ 2)\n",
    "    return summary\n",
    "\n",
    "I_rectangles = (b - a) / n * summary_rectangles(n)\n",
    "R_rectangles = (b - a) ** 3 / (24 * n ** 2) * derivateII.subs(x, phsy)"
   ]
  },
  {
   "cell_type": "code",
   "execution_count": null,
   "id": "90959a66-4fe8-4b5c-a323-fd99e0da49d4",
   "metadata": {},
   "outputs": [],
   "source": [
    "# Съставна квадратурна формула на трапеците\n",
    "def summary_trapezoid(n):\n",
    "    summary = 0\n",
    "    for i in range(1, n):\n",
    "        summary += f(x[i - 1]) + f(x[i])\n",
    "    return summary\n",
    "\n",
    "I_trapezoid = (b - a) / (2 * n) * summary_trapezoid(n)\n",
    "R_trapezoid = - (b - a) ** 3 / (12 * n ** 2) * derivateII.subs(x, phsy)"
   ]
  },
  {
   "cell_type": "code",
   "execution_count": null,
   "id": "cd459e4e-df29-469d-9fda-1487a4f8b340",
   "metadata": {},
   "outputs": [],
   "source": [
    "# Съставна квадратурна формула на Симпсън\n",
    "def summary_Simpson(n):\n",
    "    summary = 0\n",
    "    for i in range(1, n):\n",
    "        summary += (f(x[i - 1]) + 4 * f((x[i] + x[i - 1]) / 2) + f(x[i]))\n",
    "    return summary\n",
    "\n",
    "I_Simpson = (b - a) / (6 * n) * summary_Simpson(n)\n",
    "R_Simpson = - (b - a) ** 5 / (2880 * n ** 4) * derivateIV.subs(x, phsy)"
   ]
  }
 ],
 "metadata": {
  "kernelspec": {
   "display_name": "anaconda-2024.02-py310",
   "language": "python",
   "name": "conda-env-anaconda-2024.02-py310-py"
  },
  "language_info": {
   "codemirror_mode": {
    "name": "ipython",
    "version": 3
   },
   "file_extension": ".py",
   "mimetype": "text/x-python",
   "name": "python",
   "nbconvert_exporter": "python",
   "pygments_lexer": "ipython3",
   "version": "3.10.14"
  }
 },
 "nbformat": 4,
 "nbformat_minor": 5
}
