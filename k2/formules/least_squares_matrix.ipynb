{
 "cells": [
  {
   "cell_type": "code",
   "execution_count": 1,
   "id": "17d5a329-196a-4226-9ef2-df49da3cdd9e",
   "metadata": {},
   "outputs": [],
   "source": [
    "import numpy as np\n",
    "from sympy import Symbol, symbols, Eq, solve, diff\n",
    "import matplotlib.pyplot as plt"
   ]
  },
  {
   "cell_type": "code",
   "execution_count": 3,
   "id": "08a492f2-6f82-4494-a9e6-93396218c29e",
   "metadata": {},
   "outputs": [],
   "source": [
    "def summary_matrix(x, size, pow_x):\n",
    "    summary = 0\n",
    "    for i in range(size):\n",
    "        summary += (x[i] ** (pow_x))\n",
    "    return summary\n",
    "\n",
    "def create_matrix(x, n, size):\n",
    "    matrix = []\n",
    "    for i in range(n):\n",
    "        row = []\n",
    "        for j in range(n):\n",
    "            row.append(summary_matrix(x, size, j + i))\n",
    "        matrix.append(row)\n",
    "    return matrix\n",
    "\n",
    "def summary_coll(x, y, size, pow_x):\n",
    "    summary = 0\n",
    "    for i in range(size):\n",
    "        summary += (y[i] * x[i] ** pow_x)\n",
    "    return summary\n",
    "\n",
    "def create_coll(x, y, n, size):\n",
    "    coll = []\n",
    "    for i in range(n):\n",
    "        coll.append(summary_coll(x, y, size, i))\n",
    "    return coll\n",
    "\n",
    "def create_polynomial(result):\n",
    "    x = Symbol('x')\n",
    "    poly = 0\n",
    "    for i in range(result.size):\n",
    "        poly += (result[i] * x ** i)\n",
    "    return poly\n",
    "\n",
    "def least_squares_matrix(x, y, n):\n",
    "    size = x.size\n",
    "    matrix = create_matrix(x, n, size)\n",
    "    coll = create_coll(x, y, n, size)\n",
    "    result = np.linalg.solve(matrix, coll)\n",
    "    polynomial = create_polynomial(result)\n",
    "    return polynomial"
   ]
  },
  {
   "cell_type": "code",
   "execution_count": 5,
   "id": "9356a46b-32ee-4c40-a1de-08672080c7f2",
   "metadata": {},
   "outputs": [
    {
     "name": "stdout",
     "output_type": "stream",
     "text": [
      "0.5*x + 0.2\n"
     ]
    }
   ],
   "source": [
    "# how to use\n",
    "x = np.array([0, 1, 2, 3, 4])\n",
    "y = np.array([0, 1, 1, 2, 2])\n",
    "n = 2\n",
    "poly = least_squares_matrix(x, y, n)\n",
    "print(poly)"
   ]
  }
 ],
 "metadata": {
  "kernelspec": {
   "display_name": "anaconda-panel-2023.05-py310",
   "language": "python",
   "name": "conda-env-anaconda-panel-2023.05-py310-py"
  },
  "language_info": {
   "codemirror_mode": {
    "name": "ipython",
    "version": 3
   },
   "file_extension": ".py",
   "mimetype": "text/x-python",
   "name": "python",
   "nbconvert_exporter": "python",
   "pygments_lexer": "ipython3",
   "version": "3.11.5"
  }
 },
 "nbformat": 4,
 "nbformat_minor": 5
}
