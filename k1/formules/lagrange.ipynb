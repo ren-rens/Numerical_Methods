{
 "cells": [
  {
   "cell_type": "code",
   "execution_count": 3,
   "id": "2eadd2a0-f1d5-4819-ac26-aff8cef6d1ed",
   "metadata": {},
   "outputs": [],
   "source": [
    "import math\n",
    "import numpy as np\n",
    "def lkn(k, nodes, x, n):\n",
    "    res = 1\n",
    "    for i in range(n):\n",
    "        if i != k:\n",
    "            res *= ((x - nodes[i]) - (nodes[k] - nodes[i]))\n",
    "        return res\n",
    "        \n",
    "def lagrange_poly(n, values, nodes, x):\n",
    "    poly = 0\n",
    "    for k in range(n):\n",
    "        poly += (values[i] * lkn(k, nodes, x, n))\n",
    "    return poly\n",
    "    \n",
    "def Lagrange(n_, A_, B_, f_, x_):\n",
    "    nodes = np.linspace( A_, B_, 1000)\n",
    "    values = f_(nodes)\n",
    "    poly = lagrange_poly(n_, values, nodes, x_)\n",
    "    return poly"
   ]
  },
  {
   "cell_type": "code",
   "execution_count": null,
   "id": "0c5d9e9f-50f4-48de-b98f-80aa30aa63ab",
   "metadata": {},
   "outputs": [],
   "source": []
  }
 ],
 "metadata": {
  "kernelspec": {
   "display_name": "anaconda-ai-2024.04-py310",
   "language": "python",
   "name": "conda-env-anaconda-ai-2024.04-py310-py"
  },
  "language_info": {
   "codemirror_mode": {
    "name": "ipython",
    "version": 3
   },
   "file_extension": ".py",
   "mimetype": "text/x-python",
   "name": "python",
   "nbconvert_exporter": "python",
   "pygments_lexer": "ipython3",
   "version": "3.10.13"
  }
 },
 "nbformat": 4,
 "nbformat_minor": 5
}
