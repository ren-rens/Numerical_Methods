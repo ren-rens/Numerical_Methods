{
 "cells": [
  {
   "cell_type": "code",
   "execution_count": 5,
   "id": "67113cbe-7b8e-4a73-9c24-ff7cbd92c96f",
   "metadata": {},
   "outputs": [
    {
     "name": "stdout",
     "output_type": "stream",
     "text": [
      "0.0 [0 0] [-1  0]\n",
      "0.0 [0 0] [-1  0]\n",
      "5.0 [0 0 0] [-1  0 10]\n",
      "5.0 [0 0 0] [-1  0 10]\n",
      "10.0 [0 0] [ 0 10]\n",
      "0.0 [0 0] [ 0 10]\n",
      "5.0 [0 0 0] [-1  0 10]\n",
      "5.0 [0 0 0] [-1  0 10]\n"
     ]
    },
    {
     "data": {
      "text/latex": [
       "$\\displaystyle - 4.0 x^{3} + 5.0 x^{2} - 1$"
      ],
      "text/plain": [
       "-4.0*x**3 + 5.0*x**2 - 1"
      ]
     },
     "execution_count": 5,
     "metadata": {},
     "output_type": "execute_result"
    }
   ],
   "source": [
    "import numpy as np\n",
    "from sympy import symbols, Eq, solve, diff, expand, lambdify\n",
    "import matplotlib.pyplot as plt\n",
    "import math\n",
    " \n",
    "x = symbols('x')\n",
    " \n",
    "# f[x0...xn] = f[x1...xn] - f[x0..xn-1] / xn - x0 \n",
    "# base: f[xi] = f(xi)\n",
    " \n",
    "# xn == x0: diff(f, k, x0) / k!\n",
    " \n",
    "def divided_dif(x_vals, y_vals):\n",
    "    \n",
    "    if len(x_vals) == 1:\n",
    "        return m[x_vals[0]]\n",
    " \n",
    "    if x_vals[0] == x_vals[-1]:\n",
    "        print(f\"{y_vals[-1]/ math.factorial(len(x_vals)-1)} {x_vals} {y_vals}\")\n",
    "        print(f\"{ders[(x_vals[0], len(y_vals)-1)]/ math.factorial(len(x_vals)-1)} {x_vals} {y_vals}\")\n",
    "        return ders[(x_vals[0], len(y_vals)-1)] / math.factorial(len(x_vals)-1)    \n",
    "   \n",
    "    return (divided_dif(x_vals[1:], y_vals[1:]) - divided_dif(x_vals[:-1], y_vals[:-1])) / (x_vals[-1] - x_vals[0])\n",
    " \n",
    "def second_part(x_vals):\n",
    "    res = 1\n",
    "    for xi in x_vals:\n",
    "        res *= (x - xi)\n",
    "    return res\n",
    " \n",
    "def get_ermit_poli(x_vals, y_vals):\n",
    "    res = 0\n",
    "    for i in range(len(x_vals)):\n",
    "        dd = divided_dif(x_vals[:i+1], y_vals[:i+1])\n",
    "        res += dd * second_part(x_vals[:i])\n",
    "    return res\n",
    " \n",
    "x_v = np.array([0,0,0,1,])\n",
    "y_v = np.array([-1,0,10,40])\n",
    "ders = {(0,1): 0, (0,2): 10} #(<num>, <der_num>: <der_val>)\n",
    "m = {0:-1, 1:0}\n",
    "expand(get_ermit_poli(x_v, y_v))"
   ]
  },
  {
   "cell_type": "code",
   "execution_count": null,
   "id": "01f753d9-27d9-4b8a-a11b-d8cef85f5b30",
   "metadata": {},
   "outputs": [],
   "source": []
  }
 ],
 "metadata": {
  "kernelspec": {
   "display_name": "anaconda-ai-2024.04-py310",
   "language": "python",
   "name": "conda-env-anaconda-ai-2024.04-py310-py"
  },
  "language_info": {
   "codemirror_mode": {
    "name": "ipython",
    "version": 3
   },
   "file_extension": ".py",
   "mimetype": "text/x-python",
   "name": "python",
   "nbconvert_exporter": "python",
   "pygments_lexer": "ipython3",
   "version": "3.10.13"
  }
 },
 "nbformat": 4,
 "nbformat_minor": 5
}
