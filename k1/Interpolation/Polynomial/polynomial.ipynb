{
 "cells": [
  {
   "cell_type": "code",
   "execution_count": 1,
   "id": "461acaa6-f9ec-4cab-9815-024f8c4e05f8",
   "metadata": {},
   "outputs": [],
   "source": [
    "import numpy as np\n",
    "import matplotlib.pyplot as plt\n",
    "import math"
   ]
  },
  {
   "cell_type": "markdown",
   "id": "b60d75de-bd51-4ae0-a0a4-33fc39fabcca",
   "metadata": {},
   "source": [
    "# Обобщени полиноми. Интерполиране с обобщени полиноми."
   ]
  },
  {
   "cell_type": "markdown",
   "id": "a7e7abe1-5d3d-43df-9982-fd28338e51f2",
   "metadata": {},
   "source": [
    "### Задача 1"
   ]
  },
  {
   "cell_type": "markdown",
   "id": "91ad5853-ad84-4b9d-a4d6-8afd29656870",
   "metadata": {},
   "source": [
    "В таблицата са дадени данни за развитието на бактериална популация\n",
    "\n",
    "|  t, h  |  1 | 2 | 3 | 4 | 5 |\n",
    "| --- | --- | --- | --- | --- | --- | \n",
    "| бр. клетки (x1000)|  1 |12| 110 | 1037 | 12218 |\n",
    "\n",
    "Да се намери подходяща функция, която интерполира данните."
   ]
  },
  {
   "cell_type": "code",
   "execution_count": 33,
   "id": "1e4c7f41-ec74-4ba9-bd49-7b01c43110b4",
   "metadata": {},
   "outputs": [
    {
     "data": {
      "text/plain": [
       "array([ 1.05060273e-01, -3.82376156e-01,  2.57280204e-01,  1.65052200e-03,\n",
       "        2.49829522e-06])"
      ]
     },
     "execution_count": 33,
     "metadata": {},
     "output_type": "execute_result"
    }
   ],
   "source": [
    "t = np.array([1, 2, 3, 4, 5])\n",
    "cells = np.array([1, 12, 110, 1037, 12218])\n",
    "\n",
    "#the data rises very fast therefore we have to use exponential polynomial\n",
    "n = 5\n",
    "A = np.zeros([n,n])\n",
    "def create_matrix(A, n):\n",
    "    for i in range(n):\n",
    "        for j in range(n):\n",
    "            A[i][j] = np.exp(t[i] * j)\n",
    "\n",
    "create_matrix(A, n)\n",
    "\n",
    "solution = np.linalg.solve(A, cells)\n",
    "solution"
   ]
  },
  {
   "cell_type": "code",
   "execution_count": 35,
   "id": "d067fa9e-3e24-47ca-aeac-a8f51ba9aa25",
   "metadata": {},
   "outputs": [
    {
     "data": {
      "image/png": "[encoded data removed]",
      "text/plain": [
       "<Figure size 432x288 with 1 Axes>"
      ]
     },
     "metadata": {
      "needs_background": "light"
     },
     "output_type": "display_data"
    }
   ],
   "source": [
    "#finding the function from solution\n",
    "def exp_poly_1(x, solution):\n",
    "    poly = 0;\n",
    "    for i in range(cells.size):\n",
    "        poly += solution[i] * np.exp(i * x)\n",
    "    return poly\n",
    "\n",
    "x_axis = np.linspace(1, 5, 1000)\n",
    "plt.plot(x_axis, exp_poly_1(x_axis, solution), color = 'r')\n",
    "plt.scatter(t, cells)\n",
    "plt.xlabel('t, h')\n",
    "plt.ylabel('брой клетки (x1000)')\n",
    "plt.show()"
   ]
  },
  {
   "cell_type": "markdown",
   "id": "050a20e3-2517-4793-bb14-19905fdea282",
   "metadata": {},
   "source": [
    "### Задача 2"
   ]
  },
  {
   "cell_type": "markdown",
   "id": "5dc88f48-6834-4ecc-ae4b-370250cf2aa7",
   "metadata": {},
   "source": [
    "В таблицата са дадени данни за зависимостта между нивото на алкохол в кръвта (BAC - Blood Alcohol Level) и относителния риск за попадане в ПТП (т.е. колко пъти се увеличава рискът спрямо водач, който не е употребявал алкохол)\n",
    "\n",
    "|  BAC  |  0 | 0.03 | 0.07 | 0.15 | 0.21 | 0.27 |\n",
    "| --- | --- | --- | --- | --- | --- | --- |\n",
    "| relative risk of crashing|  1 |1.06| 2.09 | 22.1 | 99.78 | 328.602 |\n",
    "\n",
    "Да се построи интерполационен полином по подходящ базис, който описва данните от таблицата. Да се начертае графиката му, заедно с данните от таблицата."
   ]
  },
  {
   "cell_type": "code",
   "execution_count": 48,
   "id": "0b1ae2c3-64a3-4e22-b164-75c899c2392a",
   "metadata": {},
   "outputs": [
    {
     "data": {
      "text/plain": [
       "array([ 5.38042614e+04, -2.09024759e+05,  3.04729868e+05, -1.97591583e+05,\n",
       "        4.80844797e+04, -1.26675331e+00])"
      ]
     },
     "execution_count": 48,
     "metadata": {},
     "output_type": "execute_result"
    }
   ],
   "source": [
    "#exponential polynomial\n",
    "bac = np.array([0, 0.03, 0.07, 0.15, 0.21, 0.27])\n",
    "rrc = np.array([1, 1.06, 2.09, 22.1, 99.78, 328.602])\n",
    "\n",
    "n = 6\n",
    "\n",
    "A = np.zeros([6, 6])\n",
    "def fill_matrix(A, n, bac):\n",
    "    for i in range(n):\n",
    "        for j in range(n):\n",
    "            A[i][j] = np.exp(j * bac[i])\n",
    "\n",
    "fill_matrix(A, n, bac)\n",
    "\n",
    "sol = np.linalg.solve(A, rrc)\n",
    "sol"
   ]
  },
  {
   "cell_type": "code",
   "execution_count": 64,
   "id": "8b72bd94-b0ef-4c1f-aa68-07d43533b46b",
   "metadata": {},
   "outputs": [
    {
     "data": {
      "image/png": "[encoded data removed]",
      "text/plain": [
       "<Figure size 432x288 with 1 Axes>"
      ]
     },
     "metadata": {
      "needs_background": "light"
     },
     "output_type": "display_data"
    }
   ],
   "source": [
    "def exp_poly_2(x, sol, rrc):\n",
    "    poly = 0;\n",
    "    for i in range(rrc.size):\n",
    "        poly += sol[i] * np.exp(i * x)\n",
    "    return poly\n",
    "    \n",
    "x_axis_2 = np.linspace(0, 0.27, 1000)\n",
    "\n",
    "plt.scatter(bac, rrc)\n",
    "plt.plot(x_axis_2, exp_poly_2(x_axis_2, sol, rrc), color = 'green')\n",
    "plt.show()"
   ]
  },
  {
   "cell_type": "markdown",
   "id": "c1ddfa11-e6d0-43c9-b188-2cfdb4a853e0",
   "metadata": {},
   "source": [
    "### Задача 3"
   ]
  },
  {
   "cell_type": "markdown",
   "id": "852d5bcc-7fd4-47c4-a4b0-9eae46041632",
   "metadata": {},
   "source": [
    "В таблицата са дадени данни от сигнал на акселерометър в 5 момента от време:\n",
    "\n",
    "|  t, ms  |  1 | 1.5 | 3 | 4 | 6 |\n",
    "| --- | --- | --- | --- | --- | --- | \n",
    "| ускорение, $m/s^2$|  0 |1| 1.2 | 4 | 2 |\n",
    "\n",
    "Да се намери обощен полином по подходящ базис, който интерполира тези данни, ако е известно, че сигналът се описва от периодична функция с период а) $T=2\\pi$; б) $T=8$.\n",
    "Да се начертае графиката на полинома в интервала $[0, 4 \\pi]$ заедно с точките в една координатна система във всеки от случаите."
   ]
  },
  {
   "cell_type": "code",
   "execution_count": 139,
   "id": "d63b83e7-592d-4c9b-898c-78c104d08e1b",
   "metadata": {},
   "outputs": [],
   "source": [
    "x_axis = np.linspace(0, math.pi * 4, 1000)\n",
    "\n",
    "t = np.array([0, 1.5, 3, 4, 6])\n",
    "acceleration = np.array([0, 1, 1.5, 4, 2])\n",
    "\n",
    "n = 5\n",
    "A = np.ones([n, n])"
   ]
  },
  {
   "cell_type": "code",
   "execution_count": 141,
   "id": "83167cf0-3e26-47a9-a479-533d220b92e4",
   "metadata": {},
   "outputs": [
    {
     "data": {
      "image/png": "[encoded data removed]",
      "text/plain": [
       "<Figure size 432x288 with 1 Axes>"
      ]
     },
     "metadata": {
      "needs_background": "light"
     },
     "output_type": "display_data"
    }
   ],
   "source": [
    "#a) T = 2PI\n",
    "\n",
    "def fill_matrix_trigonometry(A, n, t):\n",
    "    for i in range(n):\n",
    "        for j in range(1, n):\n",
    "            if(j % 2 != 0):\n",
    "                A[i, j] = np.cos((math.floor(j / 2) + 1) * t[i])\n",
    "            else:\n",
    "                A[i, j] = np.sin(j / 2 * t[i])\n",
    "\n",
    "fill_matrix_trigonometry(A, n, t)\n",
    "solution = np.linalg.solve(A, acceleration)\n",
    "solution\n",
    "\n",
    "def poly_exc_3_a(solution, x):\n",
    "    poly = solution[0] + solution[1] * np.cos(x) + solution[2] * np.sin(x) + solution[3] * np.cos(2 * x) + solution[4] * np.sin(2 * x)\n",
    "    return poly\n",
    "\n",
    "poly_a = poly_exc_3_a(solution, x_axis)\n",
    "plt.plot(x_axis, poly_a, color = 'blue')\n",
    "plt.scatter(t, acceleration, color = 'green')\n",
    "plt.title(\"Данни с период $2 \\pi$\")\n",
    "plt.xlabel('t, ms')\n",
    "plt.ylabel('ускорение, $m/s^2$')\n",
    "plt.show()"
   ]
  },
  {
   "cell_type": "code",
   "execution_count": null,
   "id": "8d04cbc3-bbd6-44fe-bf4b-da2bda7f9c48",
   "metadata": {},
   "outputs": [],
   "source": []
  },
  {
   "cell_type": "code",
   "execution_count": 155,
   "id": "34c3ab77-8243-4533-aed6-9b9166e153f3",
   "metadata": {},
   "outputs": [
    {
     "data": {
      "image/png": "[encoded data removed]",
      "text/plain": [
       "<Figure size 432x288 with 1 Axes>"
      ]
     },
     "metadata": {
      "needs_background": "light"
     },
     "output_type": "display_data"
    }
   ],
   "source": [
    "#b) T = 8\n",
    "# we have to change the period first!!!!\n",
    "t_changed = (2 * np.pi) / 8 * t\n",
    "\n",
    "def fill_matrix_b(t_changed, n, A):\n",
    "    for i in range(n):\n",
    "        for j in range(1, n):\n",
    "            if j % 2 != 0:\n",
    "                A[i][j] = np.cos((math.floor(j / 2) + 1) * t_changed[i])\n",
    "            else:\n",
    "                A[i][j] = np.sin(j / 2 * t_changed[i])\n",
    "\n",
    "fill_matrix_b(t_changed, n , A)\n",
    "\n",
    "sol = np.linalg.solve(A, acceleration)\n",
    "sol\n",
    "\n",
    "def poly_exc_3_b(sol, x):\n",
    "    poly = sol[0] + sol[1] * np.cos(x) + sol[2] * np.sin(x) + sol[3] * np.cos(2 * x) + sol[4] * np.sin(2 * x)\n",
    "    return poly\n",
    "\n",
    "poly_b = poly_exc_3_b(sol, x_axis)\n",
    "plt.scatter(t_changed, acceleration)\n",
    "plt.plot(x_axis, poly_b, color = 'purple')\n",
    "plt.show()"
   ]
  },
  {
   "cell_type": "markdown",
   "id": "2d2b57ac-fbe8-4247-ad5a-6fbccc3e179b",
   "metadata": {},
   "source": [
    "### Задача 4"
   ]
  },
  {
   "cell_type": "markdown",
   "id": "e6c7826f-e9fa-4e5f-a223-5a64addc830a",
   "metadata": {},
   "source": [
    "В таблицата са дадени данни за средните месечни количества слънчева радиация на територията на България, като лиспват данни за м. август\n",
    "\n",
    "|  t, месец  |  Я | Ф | М | А | М | Ю | Ю | A | С | O | Н | Д |\n",
    "| --- | --- | --- | --- | --- | --- | --- | --- | --- | --- | --- | --- | --- |\n",
    "| слънчева радиация, $W/m^2$|45.9| 78.2 | 123.5| 172.6| 223.5| 255.3| 286.0| | 183.9| 116.2 | 57.8| 37.7|\n",
    "\n",
    "Данните са осреднени на 30 дни, т.е. можем да считаме, че разстоянието между измерванията в два съседни месеца е 30. Като се има предвид това, както и факта, че разглежданият процес е с период 365 дни, да се намери обобщен полином по подходящ базис, който описва данните в таблицата. Като се използва така намерения полином, да се пресметне приближено количеството слънчева радиация, съответстващо на м. август. Да се сравни с действителната стойност - $257.9 W/m^2$."
   ]
  },
  {
   "cell_type": "code",
   "execution_count": 220,
   "id": "4e8d7b0e-44d0-4bea-876d-d1cd155a85a2",
   "metadata": {},
   "outputs": [
    {
     "data": {
      "text/plain": [
       "11"
      ]
     },
     "execution_count": 220,
     "metadata": {},
     "output_type": "execute_result"
    }
   ],
   "source": [
    "#period T = 365 -> change it \n",
    "days_with_august = np.arange(0, 12 * 30, 30)\n",
    "days = np.delete(days_with_august, 7)\n",
    "t_changed = (2 * np.pi) / 365 * days\n",
    "sr = np.array([45.9, 78.2, 123.5, 172.6, 223.5, 255.3, 286.0, 183.9, 116.2, 57.8, 37.7])\n",
    "n = 11\n",
    "t_changed.size"
   ]
  },
  {
   "cell_type": "code",
   "execution_count": 233,
   "id": "b2c8442f-ffca-4083-951e-4c66a5c2a647",
   "metadata": {},
   "outputs": [
    {
     "data": {
      "text/plain": [
       "array([ 151.88393071, -115.9432057 ,   32.51077414,   12.48741795,\n",
       "          8.70831122,   -2.79319775,   -3.72774053,    2.10817026,\n",
       "          2.19655988,   -1.84311547,   -2.8214263 ])"
      ]
     },
     "execution_count": 233,
     "metadata": {},
     "output_type": "execute_result"
    }
   ],
   "source": [
    "A = np.ones([11, 11])\n",
    "def fill_matrix_trigonometry_4(A, n, t):\n",
    "    for i in range(n):\n",
    "        for j in range(1, n):\n",
    "            if(j % 2 != 0):\n",
    "                A[i, j] = np.cos((math.floor(j / 2) + 1) * t[i])\n",
    "            else:\n",
    "                A[i, j] = np.sin(j / 2 * t[i])\n",
    "\n",
    "fill_matrix_trigonometry_4(A, n, t_changed)\n",
    "\n",
    "sol = np.linalg.solve(A, sr)\n",
    "sol"
   ]
  },
  {
   "cell_type": "code",
   "execution_count": 275,
   "id": "ec3aaef0-b554-47e4-b21f-101897b455fa",
   "metadata": {},
   "outputs": [
    {
     "data": {
      "image/png": "[encoded data removed]",
      "text/plain": [
       "<Figure size 432x288 with 1 Axes>"
      ]
     },
     "metadata": {
      "needs_background": "light"
     },
     "output_type": "display_data"
    }
   ],
   "source": [
    "def poly_exc_4(x, sol):\n",
    "    poly = sol[0]\n",
    "    for i in range(1 , sol.size):\n",
    "        if (i % 2 != 0):\n",
    "            poly += sol[i] * np.cos((math.floor(i / 2) + 1) * x)\n",
    "        else:\n",
    "            poly += sol[i] * np.sin(i / 2 * x)\n",
    "    return poly\n",
    "\n",
    "x_axis = np.linspace(0, 2 * np.pi, 1000)\n",
    "plt.plot(x_axis, poly_exc_4(x_axis, sol), color = 'purple')\n",
    "plt.scatter(t_changed, sr)\n",
    "plt.show()"
   ]
  },
  {
   "cell_type": "code",
   "execution_count": 295,
   "id": "3cbbd497-530d-45de-a3c1-de6471276d18",
   "metadata": {},
   "outputs": [
    {
     "name": "stdout",
     "output_type": "stream",
     "text": [
      "260.7935639691475\n"
     ]
    }
   ],
   "source": [
    "august = 30 * 7\n",
    "x = (2 * np.pi) / 365 * august\n",
    "approximate_res = poly_exc_4(x, sol)\n",
    "print(approximate_res)"
   ]
  },
  {
   "cell_type": "code",
   "execution_count": 292,
   "id": "bc610c60-e5f1-4fae-89c3-5baa81858da3",
   "metadata": {},
   "outputs": [
    {
     "data": {
      "text/plain": [
       "-2.8935639691475217"
      ]
     },
     "execution_count": 292,
     "metadata": {},
     "output_type": "execute_result"
    }
   ],
   "source": [
    "actual_res = 257.9\n",
    "def absolute_error(x):\n",
    "    return actual_res - approximate_res\n",
    "\n",
    "absolute_error(august)"
   ]
  },
  {
   "cell_type": "code",
   "execution_count": null,
   "id": "99629f8a-5f2f-4c07-9b4c-105eb024fb2f",
   "metadata": {},
   "outputs": [],
   "source": []
  }
 ],
 "metadata": {
  "kernelspec": {
   "display_name": "anaconda-2022.05-py39",
   "language": "python",
   "name": "conda-env-anaconda-2022.05-py39-py"
  },
  "language_info": {
   "codemirror_mode": {
    "name": "ipython",
    "version": 3
   },
   "file_extension": ".py",
   "mimetype": "text/x-python",
   "name": "python",
   "nbconvert_exporter": "python",
   "pygments_lexer": "ipython3",
   "version": "3.9.12"
  }
 },
 "nbformat": 4,
 "nbformat_minor": 5
}
